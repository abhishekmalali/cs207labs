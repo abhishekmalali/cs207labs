{
 "cells": [
  {
   "cell_type": "markdown",
   "metadata": {
    "collapsed": true
   },
   "source": [
    "## Q1.\n",
    "\n",
    "Add methods `__iter__` to your project Time Series class to iterate over values, a method `itertimes` to iterate over times, a method `itervalues` to iterate over values, and a method `iteritems` to iterate over time-value pairs. (This is a similar interface to python dictionaries). To test these, check both the types of the results and the answers you expect."
   ]
  },
  {
   "cell_type": "code",
   "execution_count": 1,
   "metadata": {
    "collapsed": true
   },
   "outputs": [],
   "source": [
    "#your code here\n",
    "def __iter__(self):\n",
    "    return TimeSeriesIterator(self._values)\n",
    "    \n",
    "def itertimes(self):\n",
    "    return TimeSeriesIterator(self._times)\n",
    "    \n",
    "def itervalues(self):\n",
    "    return TimeSeriesIterator(self._values)\n",
    "    \n",
    "def iteritems(self):\n",
    "    combined = []\n",
    "    for i in range(len(self._times)):\n",
    "        combined.append((self._times[i], self._values[i]))\n",
    "    return TimeSeriesIterator(combined)"
   ]
  },
  {
   "cell_type": "markdown",
   "metadata": {},
   "source": [
    "## Q2.\n",
    "\n",
    "An online mean and standard deviation algorithm.\n",
    "\n",
    "Below is a function to generate a potentially infinite stream of 1-D data."
   ]
  },
  {
   "cell_type": "code",
   "execution_count": 2,
   "metadata": {
    "collapsed": false
   },
   "outputs": [],
   "source": [
    "from random import normalvariate, random\n",
    "from itertools import count\n",
    "def make_data(m, stop=None):\n",
    "    for _ in count():\n",
    "        if stop and _ > stop:\n",
    "            break\n",
    "        yield 1.0e09 + normalvariate(0, m*random() )\n",
    "        "
   ]
  },
  {
   "cell_type": "markdown",
   "metadata": {},
   "source": [
    "Here is an implementation of an online mean algorithm..see http://www.johndcook.com/blog/standard_deviation/ and the link to http://www.johndcook.com/blog/2008/09/26/comparing-three-methods-of-computing-standard-deviation/ in-between. (Convince yourselves of the formulas...)"
   ]
  },
  {
   "cell_type": "code",
   "execution_count": 3,
   "metadata": {
    "collapsed": true
   },
   "outputs": [],
   "source": [
    "def online_mean(iterator):\n",
    "    n = 0\n",
    "    mu = 0\n",
    "    for value in iterator:\n",
    "        n += 1\n",
    "        delta = value - mu\n",
    "        mu = mu + delta/n\n",
    "        yield mu"
   ]
  },
  {
   "cell_type": "markdown",
   "metadata": {},
   "source": [
    "We use out generator functions to implement iterators:"
   ]
  },
  {
   "cell_type": "code",
   "execution_count": 4,
   "metadata": {
    "collapsed": false
   },
   "outputs": [
    {
     "data": {
      "text/plain": [
       "[1000000003.4877927,\n",
       " 999999996.2085866,\n",
       " 999999999.6720818,\n",
       " 1000000000.4171668,\n",
       " 1000000001.2171743,\n",
       " 1000000002.7110213,\n",
       " 1000000000.3507746,\n",
       " 999999999.5313233,\n",
       " 1000000001.3035794,\n",
       " 1000000000.5783994,\n",
       " 999999993.892708]"
      ]
     },
     "execution_count": 4,
     "metadata": {},
     "output_type": "execute_result"
    }
   ],
   "source": [
    "g = make_data(5, 10)\n",
    "list(g)"
   ]
  },
  {
   "cell_type": "code",
   "execution_count": 5,
   "metadata": {
    "collapsed": false
   },
   "outputs": [
    {
     "name": "stdout",
     "output_type": "stream",
     "text": [
      "<class 'generator'>\n"
     ]
    },
    {
     "data": {
      "text/plain": [
       "[1000000000.3202308,\n",
       " 1000000002.8950593,\n",
       " 1000000003.1082267,\n",
       " 1000000002.8666036,\n",
       " 1000000002.4831146,\n",
       " 1000000002.3112051,\n",
       " 1000000002.1470407,\n",
       " 1000000001.9044988,\n",
       " 1000000001.5904995,\n",
       " 1000000000.9491882,\n",
       " 1000000000.7588848,\n",
       " 1000000000.8445706,\n",
       " 1000000000.8802992,\n",
       " 1000000000.8521402,\n",
       " 1000000001.0582367,\n",
       " 1000000001.0109584,\n",
       " 1000000000.8383832,\n",
       " 1000000000.7369761,\n",
       " 1000000000.8033888,\n",
       " 1000000000.7447013,\n",
       " 1000000000.7068086,\n",
       " 1000000000.8120801,\n",
       " 1000000000.6836,\n",
       " 1000000000.9931349,\n",
       " 1000000000.5766698,\n",
       " 1000000000.713647,\n",
       " 1000000000.7173547,\n",
       " 1000000000.6804718,\n",
       " 1000000000.6397326,\n",
       " 1000000000.6484588,\n",
       " 1000000000.6424934,\n",
       " 1000000000.6091831,\n",
       " 1000000000.5844717,\n",
       " 1000000000.6034403,\n",
       " 1000000000.6611179,\n",
       " 1000000000.6286106,\n",
       " 1000000000.5995481,\n",
       " 1000000000.6862773,\n",
       " 1000000000.7410644,\n",
       " 1000000000.7551719,\n",
       " 1000000000.7445625,\n",
       " 1000000000.7047147,\n",
       " 1000000000.730354,\n",
       " 1000000000.7152361,\n",
       " 1000000000.7054473,\n",
       " 1000000000.7722892,\n",
       " 1000000000.6836604,\n",
       " 1000000000.7183642,\n",
       " 1000000000.6363765,\n",
       " 1000000000.6373688,\n",
       " 1000000000.6236236,\n",
       " 1000000000.7028837,\n",
       " 1000000000.6831708,\n",
       " 1000000000.6618009,\n",
       " 1000000000.614504,\n",
       " 1000000000.645691,\n",
       " 1000000000.5596623,\n",
       " 1000000000.5502006,\n",
       " 1000000000.5709095,\n",
       " 1000000000.492356,\n",
       " 1000000000.4957291,\n",
       " 1000000000.5008805,\n",
       " 1000000000.528739,\n",
       " 1000000000.6057422,\n",
       " 1000000000.4823154,\n",
       " 1000000000.4711626,\n",
       " 1000000000.4736116,\n",
       " 1000000000.4649856,\n",
       " 1000000000.4695185,\n",
       " 1000000000.4844129,\n",
       " 1000000000.4903628,\n",
       " 1000000000.4927429,\n",
       " 1000000000.4662917,\n",
       " 1000000000.4370081,\n",
       " 1000000000.428546,\n",
       " 1000000000.4155267,\n",
       " 1000000000.401754,\n",
       " 1000000000.3820978,\n",
       " 1000000000.4081037,\n",
       " 1000000000.397525,\n",
       " 1000000000.3923912,\n",
       " 1000000000.3971034,\n",
       " 1000000000.4126226,\n",
       " 1000000000.4080676,\n",
       " 1000000000.39555,\n",
       " 1000000000.3799111,\n",
       " 1000000000.3884711,\n",
       " 1000000000.4198743,\n",
       " 1000000000.4100391,\n",
       " 1000000000.4415901,\n",
       " 1000000000.4486154,\n",
       " 1000000000.454234,\n",
       " 1000000000.4199569,\n",
       " 1000000000.371343,\n",
       " 1000000000.3689753,\n",
       " 1000000000.3461353,\n",
       " 1000000000.3208312,\n",
       " 1000000000.285285,\n",
       " 1000000000.1904479,\n",
       " 1000000000.1937613,\n",
       " 1000000000.2099098]"
      ]
     },
     "execution_count": 5,
     "metadata": {},
     "output_type": "execute_result"
    }
   ],
   "source": [
    "g = online_mean(make_data(5, 100))\n",
    "print(type(g))\n",
    "list(g)"
   ]
  },
  {
   "cell_type": "markdown",
   "metadata": {},
   "source": [
    "### 2.1\n",
    "\n",
    "Implement the standard deviation algorithm as a generator function as\n",
    "\n",
    "```python\n",
    "def online_mean_dev(iterator):\n",
    "    BLA BLA\n",
    "    if n > 1:\n",
    "        stddev = math.sqrt(dev_accum/(n-1))\n",
    "        yield (n, value, mu, stddev)\n",
    "```"
   ]
  },
  {
   "cell_type": "code",
   "execution_count": 6,
   "metadata": {
    "collapsed": false
   },
   "outputs": [],
   "source": [
    "# your code here\n",
    "import math\n",
    "# your code here\n",
    "def online_mean_dev(iterator):\n",
    "    n = 0\n",
    "    stddev = 0\n",
    "    mu = 0\n",
    "    for value in iterator:\n",
    "        n += 1\n",
    "        prev_mu = mu\n",
    "        delta = value - mu\n",
    "        mu = mu + delta/n\n",
    "        \n",
    "        if n > 1:\n",
    "            dev_accum = stddev + (value - prev_mu) * (value - mu)\n",
    "            stddev = math.sqrt(dev_accum/(n-1))\n",
    "            yield (n, value, mu, stddev)"
   ]
  },
  {
   "cell_type": "markdown",
   "metadata": {},
   "source": [
    "Here we make 100000 element data, and run this iterator on it (imagine running this on a time-series being slowly read from disk"
   ]
  },
  {
   "cell_type": "code",
   "execution_count": 7,
   "metadata": {
    "collapsed": true
   },
   "outputs": [],
   "source": [
    "data_with_stats = online_mean_dev(make_data(5, 100000))"
   ]
  },
  {
   "cell_type": "markdown",
   "metadata": {},
   "source": [
    "## Q3.\n",
    "\n",
    "Let's do Anomaly detection. Write a routine `is_ok`:\n",
    "\n",
    "```python\n",
    "def is_ok(level, t)\n",
    "```\n",
    "\n",
    "which takes a tuple like the one yielded by your code above and returns True if the value is inbetween `level`-$\\sigma$ of the mean."
   ]
  },
  {
   "cell_type": "code",
   "execution_count": 8,
   "metadata": {
    "collapsed": true
   },
   "outputs": [],
   "source": [
    "#your code here\n",
    "def is_ok(level, t):\n",
    "    value = t[1]\n",
    "    mu = t[2]\n",
    "    stddev = t[3]\n",
    "    levelsigma = level - stddev\n",
    "    lower = mu - levelsigma\n",
    "    upper = mu + levelsigma\n",
    "    if (value <= upper) and (value >= lower):\n",
    "        yield True\n",
    "    yield False\n"
   ]
  },
  {
   "cell_type": "markdown",
   "metadata": {},
   "source": [
    "We use this function to create a predicate passed through to `itertools.filterfalse` which is then used to obtain an iterator on the anomalies."
   ]
  },
  {
   "cell_type": "code",
   "execution_count": 9,
   "metadata": {
    "collapsed": true
   },
   "outputs": [],
   "source": [
    "from itertools import filterfalse\n",
    "pred = lambda t: is_ok(5, t)\n",
    "anomalies = filterfalse(pred, data_with_stats)"
   ]
  },
  {
   "cell_type": "markdown",
   "metadata": {},
   "source": [
    "We materialize the anomalies..."
   ]
  },
  {
   "cell_type": "code",
   "execution_count": 164,
   "metadata": {
    "collapsed": false
   },
   "outputs": [],
   "source": [
    "list(anomalies)#materialize"
   ]
  },
  {
   "cell_type": "markdown",
   "metadata": {},
   "source": [
    "## To think of, but not hand in\n",
    "\n",
    "What kinds of anomalies will this algorithm pick up? What kinds would a shorter \"window\" of anomaly detection, like 100 points around the time in question pick? How might you create an algorithm which does window based averaging? (hint: the window size is small compared to the time series size). \n",
    "\n",
    "Finally think a bit of how you might implement all of this in a production environment..remember that data streaming in might get backed up when you handle an anomaly.\n",
    "\n",
    "(Some inspiration might accrue if you look at the docs for `collections.deque`)."
   ]
  },
  {
   "cell_type": "code",
   "execution_count": null,
   "metadata": {
    "collapsed": true
   },
   "outputs": [],
   "source": []
  }
 ],
 "metadata": {
  "kernelspec": {
   "display_name": "Python 3",
   "language": "python",
   "name": "python3"
  },
  "language_info": {
   "codemirror_mode": {
    "name": "ipython",
    "version": 3
   },
   "file_extension": ".py",
   "mimetype": "text/x-python",
   "name": "python",
   "nbconvert_exporter": "python",
   "pygments_lexer": "ipython3",
   "version": "3.5.1"
  }
 },
 "nbformat": 4,
 "nbformat_minor": 0
}
